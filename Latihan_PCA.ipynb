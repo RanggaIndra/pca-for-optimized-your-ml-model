{
  "nbformat": 4,
  "nbformat_minor": 0,
  "metadata": {
    "colab": {
      "provenance": []
    },
    "kernelspec": {
      "name": "python3",
      "display_name": "Python 3"
    },
    "language_info": {
      "name": "python"
    }
  },
  "cells": [
    {
      "cell_type": "code",
      "execution_count": 5,
      "metadata": {
        "colab": {
          "base_uri": "https://localhost:8080/"
        },
        "id": "5Za1Khj-mqVI",
        "outputId": "4e39294d-6baa-4b09-8a9e-8b2ade7025c1"
      },
      "outputs": [
        {
          "output_type": "execute_result",
          "data": {
            "text/plain": [
              "0.9"
            ]
          },
          "metadata": {},
          "execution_count": 5
        }
      ],
      "source": [
        "from sklearn import datasets\n",
        "from sklearn.model_selection import train_test_split\n",
        "from sklearn.decomposition import PCA\n",
        "from sklearn import tree\n",
        "\n",
        "iris = datasets.load_iris()\n",
        "atribut = iris.data\n",
        "label = iris.target\n",
        "X_train, X_test, y_train, y_test = train_test_split(atribut, label, test_size=0.2, random_state=1)\n",
        "\n",
        "# try with Decision Tree\n",
        "decision_tree = tree.DecisionTreeClassifier()\n",
        "first_model = decision_tree.fit(X_train, y_train)\n",
        "first_model.score(X_test, y_test)\n",
        "\n",
        "# create first PCA object with 4 principal component\n",
        "pca = PCA(n_components=4)\n",
        "\n",
        "# fit PCA with training datasets\n",
        "pca_attributes = pca.fit_transform(X_train)\n",
        "\n",
        "# see the Variances result from first PCA atribut\n",
        "pca.explained_variance_ratio_\n",
        "\n",
        "# create final PCA\n",
        "pca_2 = PCA(n_components=2)\n",
        "x_train_pca = pca.fit_transform(X_train)\n",
        "x_test_pca = pca.fit_transform(X_test)\n",
        "\n",
        "# accuration test classifier\n",
        "model2 = decision_tree.fit(x_train_pca, y_train)\n",
        "model2.score(x_test_pca, y_test)"
      ]
    }
  ]
}